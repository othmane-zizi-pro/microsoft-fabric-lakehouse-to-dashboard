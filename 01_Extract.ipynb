{
 "cells": [
  {
   "cell_type": "markdown",
   "metadata": {},
   "source": [
    "# 01 Extract - Load CSVs to Bronze Layer\n",
    "\n",
    "This notebook loads raw CSV files from the Lakehouse Files section and saves them as Delta tables in the Bronze layer.\n",
    "\n",
    "**Prerequisites:**\n",
    "- Lakehouse created and attached to this notebook\n",
    "- CSV files uploaded to Files/ folder:\n",
    "  - DimProduct.csv\n",
    "  - DimCustomer.csv\n",
    "  - FactInternetSales.csv"
   ]
  },
  {
   "cell_type": "markdown",
   "metadata": {},
   "source": [
    "## Load Products"
   ]
  },
  {
   "cell_type": "code",
   "execution_count": null,
   "metadata": {},
   "outputs": [],
   "source": [
    "# Load Products CSV\n",
    "df_products = spark.read.csv(\n",
    "    \"Files/DimProduct.csv\",\n",
    "    header=True,\n",
    "    inferSchema=True\n",
    ")\n",
    "\n",
    "print(f\"✓ Loaded {df_products.count()} products\")\n",
    "df_products.show(5)\n",
    "\n",
    "# Save as Delta Table (direct path - no catalog needed)\n",
    "df_products.write.mode(\"overwrite\").format(\"delta\").save(\"Tables/bronze_products\")\n",
    "print(\"✓ Saved to bronze_products table\")"
   ]
  },
  {
   "cell_type": "markdown",
   "metadata": {},
   "source": [
    "## Load Sales"
   ]
  },
  {
   "cell_type": "code",
   "execution_count": null,
   "metadata": {},
   "outputs": [],
   "source": [
    "# Load Sales CSV\n",
    "df_sales = spark.read.csv(\n",
    "    \"Files/FactInternetSales.csv\",\n",
    "    header=True,\n",
    "    inferSchema=True\n",
    ")\n",
    "\n",
    "print(f\"✓ Loaded {df_sales.count()} sales transactions\")\n",
    "df_sales.show(5)\n",
    "\n",
    "# Save as Delta Table\n",
    "df_sales.write.mode(\"overwrite\").format(\"delta\").save(\"Tables/bronze_sales\")\n",
    "print(\"✓ Saved to bronze_sales table\")"
   ]
  },
  {
   "cell_type": "markdown",
   "metadata": {},
   "source": [
    "## Load Customers"
   ]
  },
  {
   "cell_type": "code",
   "execution_count": null,
   "metadata": {},
   "outputs": [],
   "source": [
    "# Load Customers CSV\n",
    "df_customers = spark.read.csv(\n",
    "    \"Files/DimCustomer.csv\",\n",
    "    header=True,\n",
    "    inferSchema=True\n",
    ")\n",
    "\n",
    "print(f\"✓ Loaded {df_customers.count()} customers\")\n",
    "df_customers.show(5)\n",
    "\n",
    "# Save as Delta Table\n",
    "df_customers.write.mode(\"overwrite\").format(\"delta\").save(\"Tables/bronze_customers\")\n",
    "print(\"✓ Saved to bronze_customers table\")"
   ]
  },
  {
   "cell_type": "markdown",
   "metadata": {},
   "source": [
    "## Summary\n",
    "\n",
    "✅ Extract complete! Three bronze tables created:\n",
    "- `bronze_products`\n",
    "- `bronze_sales`\n",
    "- `bronze_customers`\n",
    "\n",
    "**Next step:** Run `02_Transform` notebook to create Silver and Gold layers."
   ]
  }
 ],
 "metadata": {
  "kernelspec": {
   "display_name": "Python 3",
   "language": "python",
   "name": "python3"
  },
  "language_info": {
   "name": "python",
   "version": "3.10.0"
  }
 },
 "nbformat": 4,
 "nbformat_minor": 4
}
