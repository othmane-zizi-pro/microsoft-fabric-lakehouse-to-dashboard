{
 "cells": [
  {
   "cell_type": "markdown",
   "metadata": {},
   "source": [
    "# 02 Transform - Create Silver & Gold Layers\n",
    "\n",
    "This notebook transforms Bronze tables into:\n",
    "- **Silver Layer**: Cleaned data\n",
    "- **Gold Layer**: Business-ready analytics tables\n",
    "\n",
    "**Prerequisites:**\n",
    "- `01_Extract` notebook completed\n",
    "- Bronze tables exist: bronze_products, bronze_sales, bronze_customers"
   ]
  },
  {
   "cell_type": "markdown",
   "metadata": {},
   "source": [
    "## Load Bronze Tables"
   ]
  },
  {
   "cell_type": "code",
   "execution_count": null,
   "metadata": {},
   "outputs": [],
   "source": [
    "from pyspark.sql import functions as F\n",
    "\n",
    "# Load bronze tables (use direct paths)\n",
    "products = spark.read.format(\"delta\").load(\"Tables/bronze_products\")\n",
    "sales = spark.read.format(\"delta\").load(\"Tables/bronze_sales\")\n",
    "customers = spark.read.format(\"delta\").load(\"Tables/bronze_customers\")\n",
    "\n",
    "print(f\"✓ Loaded {products.count()} products\")\n",
    "print(f\"✓ Loaded {sales.count()} sales\")\n",
    "print(f\"✓ Loaded {customers.count()} customers\")"
   ]
  },
  {
   "cell_type": "markdown",
   "metadata": {},
   "source": [
    "## Gold Layer: Sales by Product"
   ]
  },
  {
   "cell_type": "code",
   "execution_count": null,
   "metadata": {},
   "outputs": [],
   "source": [
    "# Join sales with products\n",
    "sales_by_product = sales.join(products, \"ProductKey\", \"left\") \\\n",
    "    .groupBy(\"ProductKey\", \"ProductName\") \\\n",
    "    .agg(\n",
    "        F.sum(\"SalesAmount\").alias(\"TotalSales\"),\n",
    "        F.sum(\"OrderQuantity\").alias(\"TotalQuantity\"),\n",
    "        F.count(\"SalesOrderNumber\").alias(\"OrderCount\")\n",
    "    ) \\\n",
    "    .orderBy(F.desc(\"TotalSales\"))\n",
    "\n",
    "# Save as Gold table\n",
    "sales_by_product.write.mode(\"overwrite\").format(\"delta\").save(\"Tables/gold_sales_by_product\")\n",
    "\n",
    "print(f\"✓ Created Sales by Product: {sales_by_product.count()} products\")\n",
    "sales_by_product.show(10)"
   ]
  },
  {
   "cell_type": "markdown",
   "metadata": {},
   "source": [
    "## Gold Layer: Sales Trend"
   ]
  },
  {
   "cell_type": "code",
   "execution_count": null,
   "metadata": {},
   "outputs": [],
   "source": [
    "# Sales trend by month\n",
    "sales_trend = sales \\\n",
    "    .withColumn(\"YearMonth\", F.date_format(\"OrderDate\", \"yyyy-MM\")) \\\n",
    "    .groupBy(\"YearMonth\") \\\n",
    "    .agg(\n",
    "        F.sum(\"SalesAmount\").alias(\"TotalSales\"),\n",
    "        F.count(\"SalesOrderNumber\").alias(\"OrderCount\")\n",
    "    ) \\\n",
    "    .orderBy(\"YearMonth\")\n",
    "\n",
    "# Save as Gold table\n",
    "sales_trend.write.mode(\"overwrite\").format(\"delta\").save(\"Tables/gold_sales_trend\")\n",
    "\n",
    "print(f\"✓ Created Sales Trend: {sales_trend.count()} months\")\n",
    "sales_trend.show()"
   ]
  },
  {
   "cell_type": "markdown",
   "metadata": {},
   "source": [
    "## Gold Layer: Top Customers"
   ]
  },
  {
   "cell_type": "code",
   "execution_count": null,
   "metadata": {},
   "outputs": [],
   "source": [
    "# Top customers\n",
    "top_customers = sales.join(customers, \"CustomerKey\", \"left\") \\\n",
    "    .withColumn(\"CustomerName\",\n",
    "                F.concat_ws(\" \", F.col(\"FirstName\"), F.col(\"LastName\"))) \\\n",
    "    .groupBy(\"CustomerKey\", \"CustomerName\", \"EmailAddress\") \\\n",
    "    .agg(\n",
    "        F.sum(\"SalesAmount\").alias(\"TotalPurchases\"),\n",
    "        F.count(\"SalesOrderNumber\").alias(\"OrderCount\")\n",
    "    ) \\\n",
    "    .orderBy(F.desc(\"TotalPurchases\")) \\\n",
    "    .limit(100)\n",
    "\n",
    "# Save as Gold table\n",
    "top_customers.write.mode(\"overwrite\").format(\"delta\").save(\"Tables/gold_top_customers\")\n",
    "\n",
    "print(f\"✓ Created Top 100 Customers\")\n",
    "top_customers.show(10)"
   ]
  },
  {
   "cell_type": "markdown",
   "metadata": {},
   "source": [
    "## Summary\n",
    "\n",
    "✅ Transform complete! Three gold tables created:\n",
    "- `gold_sales_by_product`\n",
    "- `gold_sales_trend`\n",
    "- `gold_top_customers`\n",
    "\n",
    "**Next step:** Create SQL Warehouse and load these tables for querying."
   ]
  }
 ],
 "metadata": {
  "kernelspec": {
   "display_name": "Python 3",
   "language": "python",
   "name": "python3"
  },
  "language_info": {
   "name": "python",
   "version": "3.10.0"
  }
 },
 "nbformat": 4,
 "nbformat_minor": 4
}
